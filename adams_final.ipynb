{
 "cells": [
  {
   "cell_type": "markdown",
   "metadata": {},
   "source": [
    "Importing pandas to use for data analysis"
   ]
  },
  {
   "cell_type": "code",
   "execution_count": 2,
   "metadata": {},
   "outputs": [],
   "source": [
    "import pandas as pd\n",
    "import numpy as np\n",
    "%matplotlib inline"
   ]
  },
  {
   "cell_type": "markdown",
   "metadata": {},
   "source": [
    "<h1> Preliminary analyis: </h1>\n",
    "\n",
    "The data set deals with the trees in pittsburgh. The data set ranges from what kind of tree they are, the property value they give off, the air quality benifits they give off , where they are located and so much more. \n",
    "\n",
    "The project is managed by the pittsburgh department of public service and all benifits are calulated using the National Tree Benefit Calculator Web Service"
   ]
  },
  {
   "cell_type": "code",
   "execution_count": 3,
   "metadata": {},
   "outputs": [],
   "source": [
    "trees = pd.read_csv(\"tree_Data.csv\", low_memory = False)\n"
   ]
  },
  {
   "cell_type": "code",
   "execution_count": 4,
   "metadata": {},
   "outputs": [
    {
     "data": {
      "text/html": [
       "<div>\n",
       "<style scoped>\n",
       "    .dataframe tbody tr th:only-of-type {\n",
       "        vertical-align: middle;\n",
       "    }\n",
       "\n",
       "    .dataframe tbody tr th {\n",
       "        vertical-align: top;\n",
       "    }\n",
       "\n",
       "    .dataframe thead th {\n",
       "        text-align: right;\n",
       "    }\n",
       "</style>\n",
       "<table border=\"1\" class=\"dataframe\">\n",
       "  <thead>\n",
       "    <tr style=\"text-align: right;\">\n",
       "      <th></th>\n",
       "      <th>id</th>\n",
       "      <th>address_number</th>\n",
       "      <th>street</th>\n",
       "      <th>common_name</th>\n",
       "      <th>scientific_name</th>\n",
       "      <th>height</th>\n",
       "      <th>width</th>\n",
       "      <th>growth_space_length</th>\n",
       "      <th>growth_space_width</th>\n",
       "      <th>growth_space_type</th>\n",
       "      <th>...</th>\n",
       "      <th>neighborhood</th>\n",
       "      <th>council_district</th>\n",
       "      <th>ward</th>\n",
       "      <th>tract</th>\n",
       "      <th>public_works_division</th>\n",
       "      <th>pli_division</th>\n",
       "      <th>police_zone</th>\n",
       "      <th>fire_zone</th>\n",
       "      <th>latitude</th>\n",
       "      <th>longitude</th>\n",
       "    </tr>\n",
       "  </thead>\n",
       "  <tbody>\n",
       "    <tr>\n",
       "      <th>0</th>\n",
       "      <td>754166088</td>\n",
       "      <td>7428</td>\n",
       "      <td>MONTICELLO ST</td>\n",
       "      <td>Stump</td>\n",
       "      <td>Stump</td>\n",
       "      <td>0.0</td>\n",
       "      <td>0.0</td>\n",
       "      <td>10.0</td>\n",
       "      <td>2.0</td>\n",
       "      <td>Well or Pit</td>\n",
       "      <td>...</td>\n",
       "      <td>Homewood North</td>\n",
       "      <td>9.0</td>\n",
       "      <td>13.0</td>\n",
       "      <td>4.200313e+10</td>\n",
       "      <td>2.0</td>\n",
       "      <td>13.0</td>\n",
       "      <td>5.0</td>\n",
       "      <td>3-17</td>\n",
       "      <td>40.458169</td>\n",
       "      <td>-79.889724</td>\n",
       "    </tr>\n",
       "    <tr>\n",
       "      <th>1</th>\n",
       "      <td>1946899269</td>\n",
       "      <td>220</td>\n",
       "      <td>BALVER AVE</td>\n",
       "      <td>Linden: Littleleaf</td>\n",
       "      <td>Tilia cordata</td>\n",
       "      <td>0.0</td>\n",
       "      <td>0.0</td>\n",
       "      <td>99.0</td>\n",
       "      <td>99.0</td>\n",
       "      <td>Open or Unrestricted</td>\n",
       "      <td>...</td>\n",
       "      <td>Oakwood</td>\n",
       "      <td>2.0</td>\n",
       "      <td>28.0</td>\n",
       "      <td>4.200356e+10</td>\n",
       "      <td>5.0</td>\n",
       "      <td>28.0</td>\n",
       "      <td>6.0</td>\n",
       "      <td>1-19</td>\n",
       "      <td>40.429269</td>\n",
       "      <td>-80.067868</td>\n",
       "    </tr>\n",
       "    <tr>\n",
       "      <th>2</th>\n",
       "      <td>1431517397</td>\n",
       "      <td>2822</td>\n",
       "      <td>SIDNEY ST</td>\n",
       "      <td>Maple: Red</td>\n",
       "      <td>Acer rubrum</td>\n",
       "      <td>22.0</td>\n",
       "      <td>6.0</td>\n",
       "      <td>6.0</td>\n",
       "      <td>3.0</td>\n",
       "      <td>Well or Pit</td>\n",
       "      <td>...</td>\n",
       "      <td>South Side Flats</td>\n",
       "      <td>3.0</td>\n",
       "      <td>16.0</td>\n",
       "      <td>4.200316e+10</td>\n",
       "      <td>3.0</td>\n",
       "      <td>16.0</td>\n",
       "      <td>3.0</td>\n",
       "      <td>4-24</td>\n",
       "      <td>40.426797</td>\n",
       "      <td>-79.965035</td>\n",
       "    </tr>\n",
       "    <tr>\n",
       "      <th>3</th>\n",
       "      <td>994063598</td>\n",
       "      <td>608</td>\n",
       "      <td>SUISMON ST</td>\n",
       "      <td>Maple: Freeman</td>\n",
       "      <td>Acer x freemanii</td>\n",
       "      <td>25.0</td>\n",
       "      <td>10.0</td>\n",
       "      <td>3.0</td>\n",
       "      <td>3.0</td>\n",
       "      <td>Well or Pit</td>\n",
       "      <td>...</td>\n",
       "      <td>East Allegheny</td>\n",
       "      <td>1.0</td>\n",
       "      <td>23.0</td>\n",
       "      <td>4.200356e+10</td>\n",
       "      <td>1.0</td>\n",
       "      <td>23.0</td>\n",
       "      <td>1.0</td>\n",
       "      <td>1-6</td>\n",
       "      <td>40.455503</td>\n",
       "      <td>-79.999276</td>\n",
       "    </tr>\n",
       "    <tr>\n",
       "      <th>4</th>\n",
       "      <td>1591838573</td>\n",
       "      <td>1135</td>\n",
       "      <td>N NEGLEY AVE</td>\n",
       "      <td>Maple: Norway</td>\n",
       "      <td>Acer platanoides</td>\n",
       "      <td>52.0</td>\n",
       "      <td>13.0</td>\n",
       "      <td>99.0</td>\n",
       "      <td>99.0</td>\n",
       "      <td>Open or Unrestricted</td>\n",
       "      <td>...</td>\n",
       "      <td>Highland Park</td>\n",
       "      <td>7.0</td>\n",
       "      <td>11.0</td>\n",
       "      <td>4.200311e+10</td>\n",
       "      <td>2.0</td>\n",
       "      <td>11.0</td>\n",
       "      <td>5.0</td>\n",
       "      <td>3-9</td>\n",
       "      <td>40.476667</td>\n",
       "      <td>-79.924106</td>\n",
       "    </tr>\n",
       "  </tbody>\n",
       "</table>\n",
       "<p>5 rows × 58 columns</p>\n",
       "</div>"
      ],
      "text/plain": [
       "           id address_number         street         common_name  \\\n",
       "0   754166088           7428  MONTICELLO ST               Stump   \n",
       "1  1946899269            220     BALVER AVE  Linden: Littleleaf   \n",
       "2  1431517397           2822      SIDNEY ST          Maple: Red   \n",
       "3   994063598            608     SUISMON ST      Maple: Freeman   \n",
       "4  1591838573           1135   N NEGLEY AVE       Maple: Norway   \n",
       "\n",
       "    scientific_name  height  width  growth_space_length  growth_space_width  \\\n",
       "0             Stump     0.0    0.0                 10.0                 2.0   \n",
       "1     Tilia cordata     0.0    0.0                 99.0                99.0   \n",
       "2       Acer rubrum    22.0    6.0                  6.0                 3.0   \n",
       "3  Acer x freemanii    25.0   10.0                  3.0                 3.0   \n",
       "4  Acer platanoides    52.0   13.0                 99.0                99.0   \n",
       "\n",
       "      growth_space_type  ...      neighborhood  council_district  ward  \\\n",
       "0           Well or Pit  ...    Homewood North               9.0  13.0   \n",
       "1  Open or Unrestricted  ...           Oakwood               2.0  28.0   \n",
       "2           Well or Pit  ...  South Side Flats               3.0  16.0   \n",
       "3           Well or Pit  ...    East Allegheny               1.0  23.0   \n",
       "4  Open or Unrestricted  ...     Highland Park               7.0  11.0   \n",
       "\n",
       "          tract public_works_division  pli_division  police_zone  fire_zone  \\\n",
       "0  4.200313e+10                   2.0          13.0          5.0       3-17   \n",
       "1  4.200356e+10                   5.0          28.0          6.0       1-19   \n",
       "2  4.200316e+10                   3.0          16.0          3.0       4-24   \n",
       "3  4.200356e+10                   1.0          23.0          1.0        1-6   \n",
       "4  4.200311e+10                   2.0          11.0          5.0        3-9   \n",
       "\n",
       "    latitude  longitude  \n",
       "0  40.458169 -79.889724  \n",
       "1  40.429269 -80.067868  \n",
       "2  40.426797 -79.965035  \n",
       "3  40.455503 -79.999276  \n",
       "4  40.476667 -79.924106  \n",
       "\n",
       "[5 rows x 58 columns]"
      ]
     },
     "execution_count": 4,
     "metadata": {},
     "output_type": "execute_result"
    }
   ],
   "source": [
    "trees.head(5)"
   ]
  },
  {
   "cell_type": "markdown",
   "metadata": {},
   "source": [
    "It is easy to see that this data set has alot of information so filtering through it will be very benifical to get an understanding of what neighborhood is the \"best\" the next few cells wiill be dedicated to that."
   ]
  },
  {
   "cell_type": "code",
   "execution_count": 5,
   "metadata": {},
   "outputs": [
    {
     "data": {
      "text/html": [
       "<div>\n",
       "<style scoped>\n",
       "    .dataframe tbody tr th:only-of-type {\n",
       "        vertical-align: middle;\n",
       "    }\n",
       "\n",
       "    .dataframe tbody tr th {\n",
       "        vertical-align: top;\n",
       "    }\n",
       "\n",
       "    .dataframe thead th {\n",
       "        text-align: right;\n",
       "    }\n",
       "</style>\n",
       "<table border=\"1\" class=\"dataframe\">\n",
       "  <thead>\n",
       "    <tr style=\"text-align: right;\">\n",
       "      <th></th>\n",
       "      <th>overall_benefits_dollar_value</th>\n",
       "      <th>neighborhood</th>\n",
       "    </tr>\n",
       "  </thead>\n",
       "  <tbody>\n",
       "    <tr>\n",
       "      <th>0</th>\n",
       "      <td>NaN</td>\n",
       "      <td>Homewood North</td>\n",
       "    </tr>\n",
       "    <tr>\n",
       "      <th>1</th>\n",
       "      <td>125.178322</td>\n",
       "      <td>Oakwood</td>\n",
       "    </tr>\n",
       "    <tr>\n",
       "      <th>2</th>\n",
       "      <td>77.767116</td>\n",
       "      <td>South Side Flats</td>\n",
       "    </tr>\n",
       "    <tr>\n",
       "      <th>3</th>\n",
       "      <td>81.838259</td>\n",
       "      <td>East Allegheny</td>\n",
       "    </tr>\n",
       "    <tr>\n",
       "      <th>4</th>\n",
       "      <td>390.538994</td>\n",
       "      <td>Highland Park</td>\n",
       "    </tr>\n",
       "  </tbody>\n",
       "</table>\n",
       "</div>"
      ],
      "text/plain": [
       "   overall_benefits_dollar_value      neighborhood\n",
       "0                            NaN    Homewood North\n",
       "1                     125.178322           Oakwood\n",
       "2                      77.767116  South Side Flats\n",
       "3                      81.838259    East Allegheny\n",
       "4                     390.538994     Highland Park"
      ]
     },
     "execution_count": 5,
     "metadata": {},
     "output_type": "execute_result"
    }
   ],
   "source": [
    "edited_trees = trees.filter(items = ['overall_benefits_dollar_value','neighborhood'])\n",
    "edited_trees.head(5)"
   ]
  },
  {
   "cell_type": "markdown",
   "metadata": {},
   "source": [
    "Oh no! the dataset needs some cleaning up since some of the benefits are NaN"
   ]
  },
  {
   "cell_type": "code",
   "execution_count": 6,
   "metadata": {},
   "outputs": [
    {
     "data": {
      "text/html": [
       "<div>\n",
       "<style scoped>\n",
       "    .dataframe tbody tr th:only-of-type {\n",
       "        vertical-align: middle;\n",
       "    }\n",
       "\n",
       "    .dataframe tbody tr th {\n",
       "        vertical-align: top;\n",
       "    }\n",
       "\n",
       "    .dataframe thead th {\n",
       "        text-align: right;\n",
       "    }\n",
       "</style>\n",
       "<table border=\"1\" class=\"dataframe\">\n",
       "  <thead>\n",
       "    <tr style=\"text-align: right;\">\n",
       "      <th></th>\n",
       "      <th>overall_benefits_dollar_value</th>\n",
       "      <th>neighborhood</th>\n",
       "    </tr>\n",
       "  </thead>\n",
       "  <tbody>\n",
       "    <tr>\n",
       "      <th>1</th>\n",
       "      <td>125.178322</td>\n",
       "      <td>Oakwood</td>\n",
       "    </tr>\n",
       "    <tr>\n",
       "      <th>2</th>\n",
       "      <td>77.767116</td>\n",
       "      <td>South Side Flats</td>\n",
       "    </tr>\n",
       "    <tr>\n",
       "      <th>3</th>\n",
       "      <td>81.838259</td>\n",
       "      <td>East Allegheny</td>\n",
       "    </tr>\n",
       "    <tr>\n",
       "      <th>4</th>\n",
       "      <td>390.538994</td>\n",
       "      <td>Highland Park</td>\n",
       "    </tr>\n",
       "    <tr>\n",
       "      <th>5</th>\n",
       "      <td>206.575018</td>\n",
       "      <td>Highland Park</td>\n",
       "    </tr>\n",
       "  </tbody>\n",
       "</table>\n",
       "</div>"
      ],
      "text/plain": [
       "   overall_benefits_dollar_value      neighborhood\n",
       "1                     125.178322           Oakwood\n",
       "2                      77.767116  South Side Flats\n",
       "3                      81.838259    East Allegheny\n",
       "4                     390.538994     Highland Park\n",
       "5                     206.575018     Highland Park"
      ]
     },
     "execution_count": 6,
     "metadata": {},
     "output_type": "execute_result"
    }
   ],
   "source": [
    "edited_trees = edited_trees.dropna()\n",
    "edited_trees.head(5)"
   ]
  },
  {
   "cell_type": "markdown",
   "metadata": {},
   "source": [
    "much better now we can do some data analysis."
   ]
  },
  {
   "cell_type": "code",
   "execution_count": 7,
   "metadata": {},
   "outputs": [],
   "source": [
    "tree_dict = (trees.groupby('neighborhood').overall_benefits_dollar_value.median()).to_dict()  "
   ]
  },
  {
   "cell_type": "markdown",
   "metadata": {},
   "source": [
    "so that was alot of code in one line. Let me break down what is happening in this specific instance. First I group the dataframe by the neighborhood tag and it goes through every instance of a neighborhood<br>\n",
    "in the dataframe to then get the value of benifits that each tree has. Then when it has the group for each neighborhood it gets the median value. <br>\n",
    "<h3> Quick break: Why the median? </h3>\n",
    "<br>\n",
    "So when I was doing my analysis I noticed one thing. ALl of the data was skewed to the right. IF you are unfamiliar with data skew let me show you an example.\n"
   ]
  },
  {
   "cell_type": "code",
   "execution_count": 8,
   "metadata": {},
   "outputs": [
    {
     "data": {
      "text/plain": [
       "<AxesSubplot:ylabel='Frequency'>"
      ]
     },
     "execution_count": 8,
     "metadata": {},
     "output_type": "execute_result"
    },
    {
     "data": {
      "image/png": "[encoded data removed]",
      "text/plain": [
       "<Figure size 432x288 with 1 Axes>"
      ]
     },
     "metadata": {
      "needs_background": "light"
     },
     "output_type": "display_data"
    }
   ],
   "source": [
    "center = trees.loc[(trees.neighborhood == 'Allegheny Center')]\n",
    "center[\"overall_benefits_dollar_value\"].plot(kind = 'hist')"
   ]
  },
  {
   "cell_type": "markdown",
   "metadata": {},
   "source": [
    "Notic how there is a trail going of to the right in this plot. This is an example of a right skew. When we examine the median and the mean of this we notice there is a diffrence."
   ]
  },
  {
   "cell_type": "code",
   "execution_count": 9,
   "metadata": {},
   "outputs": [
    {
     "name": "stdout",
     "output_type": "stream",
     "text": [
      "Median:174.623107103\n",
      "Mean:171.7918814138839\n"
     ]
    }
   ],
   "source": [
    "print(\"Median:\" + format(center[\"overall_benefits_dollar_value\"].median()))\n",
    "print(\"Mean:\" + format(center[\"overall_benefits_dollar_value\"].mean()))"
   ]
  },
  {
   "cell_type": "markdown",
   "metadata": {},
   "source": [
    "Since the mean does not equal the median this means that the data is not normaly distributed and thus me have to pick one or the other to describe the center of data. When data is right skewed we use the median.<br>\n",
    "<h3> back to the explination </h3>\n",
    "<br>\n",
    "So now that we have all the medians of the data frame the to_dict() function does exactly that, puts our data into a dictionary which is easier to look at."
   ]
  },
  {
   "cell_type": "code",
   "execution_count": 10,
   "metadata": {},
   "outputs": [
    {
     "name": "stdout",
     "output_type": "stream",
     "text": [
      "{'Allegheny Center': 174.623107103, 'Allegheny West': 120.062255169, 'Allentown': 117.2930078085, 'Arlington': 49.008668432099995, 'Arlington Heights': 202.272850786, 'Banksville': 116.702199174, 'Bedford Dwellings': 48.098406723900005, 'Beechview': 92.80532685540001, 'Beltzhoover': 108.730609964, 'Bloomfield': 82.2188501225, 'Bluff': 68.93895328890001, 'Bon Air': 88.7894182384, 'Brighton Heights': 109.86041445800001, 'Brookline': 118.773008461, 'California-Kirkbride': 105.047563877, 'Carrick': 90.2032728081, 'Central Business District': 82.8933780303, 'Central Lawrenceville': 56.2121691941, 'Central Northside': 85.6451174555, 'Central Oakland': 110.520653484, 'Chartiers City': 117.8465146625, 'Chateau': 96.5507091598, 'Crafton Heights': 116.702199174, 'Crawford-Roberts': 85.6451174555, 'Duquesne Heights': 72.4832284541, 'East Allegheny': 87.850429656, 'East Carnegie': 184.9555221905, 'East Hills': 135.3272557055, 'East Liberty': 69.2360469007, 'Elliott': 123.24278906299999, 'Esplen': 106.49164549080001, 'Fairywood': 202.31615907900002, 'Fineview': 120.820665511, 'Friendship': 72.1045998096, 'Garfield': 76.55347023819999, 'Glen Hazel': 78.52115094540001, 'Greenfield': 98.80971616299999, 'Hays': 181.397514538, 'Hazelwood': 108.794785311, 'Highland Park': 133.567123119, 'Homewood North': 107.78687970799999, 'Homewood South': 103.772217934, 'Homewood West': 87.39967760835, 'Knoxville': 92.76926735925, 'Larimer': 84.34691952680001, 'Lincoln Place': 124.276281086, 'Lincoln-Lemington-Belmar': 138.351146614, 'Lower Lawrenceville': 78.1785479538, 'Manchester': 101.747485589, 'Marshall-Shadeland': 94.0127437351, 'Middle Hill': 82.4040523167, 'Morningside': 79.4514048497, 'Mount Washington': 91.2353120753, 'Mt. Oliver': 90.3446322669, 'New Homestead': 123.24278906299999, 'North Oakland': 84.9256422505, 'North Shore': 98.04611939540001, 'Northview Heights': 171.760133029, 'Oakwood': 120.062255169, 'Overbrook': 103.247565604, 'Perry North': 130.8321488515, 'Perry South': 116.702199174, 'Point Breeze': 123.24278906299999, 'Point Breeze North': 120.704261263, 'Polish Hill': 48.9348136693, 'Regent Square': 129.48139621, 'Ridgemont': 96.7441537084, 'Shadyside': 113.30783553200001, 'Sheraden': 118.198633005, 'South Oakland': 68.93895328890001, 'South Shore': 45.616670188, 'South Side Flats': 71.6890635197, 'South Side Slopes': 68.93895328890001, 'Spring Garden': 90.9082134164, 'Spring Hill-City View': 98.33600310874999, 'Squirrel Hill North': 150.34890153799998, 'Squirrel Hill South': 122.59628517799999, 'St. Clair': 206.2582913845, 'Stanton Heights': 156.780694852, 'Strip District': 66.331961728, 'Summer Hill': 112.903874621, 'Swisshelm Park': 101.37077588099999, 'Terrace Village': 71.7914789892, 'Troy Hill': 24.4195417545, 'Upper Hill': 104.19028934900001, 'Upper Lawrenceville': 105.05630324200001, 'West End': 82.8933780303, 'West Oakland': 76.55347023819999, 'Westwood': 122.815962165, 'Windgap': 118.08390831349999}\n"
     ]
    }
   ],
   "source": [
    "print(tree_dict)"
   ]
  },
  {
   "cell_type": "markdown",
   "metadata": {},
   "source": [
    "<h5> Oh no more mess... </h5><br>\n",
    "this is alot of data to look at. We should sample this to sort out our highest values. "
   ]
  },
  {
   "cell_type": "code",
   "execution_count": 11,
   "metadata": {},
   "outputs": [
    {
     "data": {
      "text/plain": [
       "['St. Clair', 'Fairywood', 'Arlington Heights', 'East Carnegie', 'Hays']"
      ]
     },
     "execution_count": 11,
     "metadata": {},
     "output_type": "execute_result"
    }
   ],
   "source": [
    "sorted(tree_dict, key = tree_dict.get, reverse = True)[:5]"
   ]
  },
  {
   "cell_type": "markdown",
   "metadata": {},
   "source": [
    "Great so now we have our top 5 values lets examine these in more depth.\n",
    "so what is the median for all of these values?"
   ]
  },
  {
   "cell_type": "code",
   "execution_count": 12,
   "metadata": {},
   "outputs": [
    {
     "name": "stdout",
     "output_type": "stream",
     "text": [
      "St. Clair: 206.2582913845\n",
      "Fairywood: 202.31615907900002\n",
      "Arlington Heights: 202.272850786\n",
      "East Carnegie: 184.9555221905\n",
      "Hays: 181.397514538\n"
     ]
    }
   ],
   "source": [
    "print(\"St. Clair: \" + format(tree_dict.get('St. Clair')))\n",
    "print(\"Fairywood: \" + format(tree_dict.get('Fairywood')))\n",
    "print(\"Arlington Heights: \" + format(tree_dict.get('Arlington Heights')))\n",
    "print(\"East Carnegie: \" + format(tree_dict.get('East Carnegie')))\n",
    "print(\"Hays: \" + format(tree_dict.get('Hays')))"
   ]
  },
  {
   "cell_type": "markdown",
   "metadata": {},
   "source": [
    "From this information it seems that we would say that St. Clair would be the best neighborhood. However it is important to look at things holisticly. Thats why to draw any conclusion I think that it is important to keep it openended <br>\n",
    "I think that anyone of these neighborhoods can be viewed as the best. To draw a definitive answer thought it is important to look at more data then just trees in ceratin neighborhoods."
   ]
  },
  {
   "cell_type": "markdown",
   "metadata": {},
   "source": [
    "<h2> A look at the 3-1-1 requests</h2><br>\n",
    "So what is 3-1-1? Well 3-1-1 is designed for citizens to call and make non-emergency complaints or report problems like graffiti or road damage "
   ]
  },
  {
   "cell_type": "code",
   "execution_count": 13,
   "metadata": {},
   "outputs": [],
   "source": [
    "three = pd.read_csv('311.csv', low_memory = False)"
   ]
  },
  {
   "cell_type": "code",
   "execution_count": 18,
   "metadata": {},
   "outputs": [
    {
     "name": "stdout",
     "output_type": "stream",
     "text": [
      "Brookline               20529\n",
      "Carrick                 19523\n",
      "South Side Slopes       16293\n",
      "Squirrel Hill South     16257\n",
      "South Side Flats        14763\n",
      "                        ...  \n",
      "East Carnegie             459\n",
      "Northview Heights         456\n",
      "Glen Hazel                309\n",
      "Arlington Heights          99\n",
      "Mount Oliver Borough       59\n",
      "Name: NEIGHBORHOOD, Length: 91, dtype: int64\n"
     ]
    }
   ],
   "source": [
    "print(three['NEIGHBORHOOD'].value_counts())\n",
    "s1 = three['NEIGHBORHOOD'].value_counts()"
   ]
  },
  {
   "cell_type": "markdown",
   "metadata": {},
   "source": [
    "So from this data we can look at the number of requests and use that as a metric to see what neighborhood is best. Lets look at some grpahs that show this."
   ]
  },
  {
   "cell_type": "code",
   "execution_count": 15,
   "metadata": {},
   "outputs": [
    {
     "data": {
      "text/plain": [
       "<AxesSubplot:>"
      ]
     },
     "execution_count": 15,
     "metadata": {},
     "output_type": "execute_result"
    },
    {
     "data": {
      "image/png": "[encoded data removed]",
      "text/plain": [
       "<Figure size 432x288 with 1 Axes>"
      ]
     },
     "metadata": {
      "needs_background": "light"
     },
     "output_type": "display_data"
    }
   ],
   "source": [
    "three.NEIGHBORHOOD.value_counts().sort_values().plot(kind = 'barh')"
   ]
  },
  {
   "cell_type": "markdown",
   "metadata": {},
   "source": [
    "messy..."
   ]
  },
  {
   "cell_type": "code",
   "execution_count": 30,
   "metadata": {},
   "outputs": [],
   "source": [
    "df = s1.to_frame()"
   ]
  },
  {
   "cell_type": "code",
   "execution_count": 35,
   "metadata": {},
   "outputs": [],
   "source": [
    "df = df[85:]"
   ]
  },
  {
   "cell_type": "code",
   "execution_count": 36,
   "metadata": {},
   "outputs": [
    {
     "data": {
      "text/plain": [
       "<AxesSubplot:>"
      ]
     },
     "execution_count": 36,
     "metadata": {},
     "output_type": "execute_result"
    },
    {
     "data": {
      "image/png": "[encoded data removed]",
      "text/plain": [
       "<Figure size 432x288 with 1 Axes>"
      ]
     },
     "metadata": {
      "needs_background": "light"
     },
     "output_type": "display_data"
    }
   ],
   "source": [
    "df.plot(kind = 'barh')"
   ]
  },
  {
   "cell_type": "markdown",
   "metadata": {},
   "source": [
    "So this breaks the data up even more and is a bar graph to showq the number of reports per neighborhood. Again however I cannot say definitivly that there is one supperior neighborhood based upon the data but a set of good neighborhood. This set would be these 6 neighborhoods."
   ]
  },
  {
   "cell_type": "code",
   "execution_count": null,
   "metadata": {},
   "outputs": [],
   "source": []
  }
 ],
 "metadata": {
  "kernelspec": {
   "display_name": "Python 3",
   "language": "python",
   "name": "python3"
  },
  "language_info": {
   "codemirror_mode": {
    "name": "ipython",
    "version": 3
   },
   "file_extension": ".py",
   "mimetype": "text/x-python",
   "name": "python",
   "nbconvert_exporter": "python",
   "pygments_lexer": "ipython3",
   "version": "3.8.5"
  }
 },
 "nbformat": 4,
 "nbformat_minor": 5
}
