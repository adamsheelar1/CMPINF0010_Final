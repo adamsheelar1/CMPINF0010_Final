{
 "cells": [
  {
   "cell_type": "markdown",
   "metadata": {},
   "source": [
    "<h1>Final Thoughts</h1>"
   ]
  },
  {
   "cell_type": "markdown",
   "metadata": {},
   "source": [
    "<h4> What is the metric </h4>\n",
    "The metric that we came up with is what neighborhood is the most benifical to the city. What we mean by this is simple. We looked at a bunch of diffrent data sets, one that gave information about trees, one that gave info about all the fire incidents in the city, and the last data set was all the 3-1-1 calls in the city. We chose very diffrent sets becuase to determine the \"best\" neighborhood you have to be broad. Each of our data sets attempt to get it down to  a sample of neighborhoods and then we compare them to eachothers data set samples. "
   ]
  },
  {
   "cell_type": "markdown",
   "metadata": {},
   "source": [
    "<h4> the best neighborhood </h4>\n",
    "Our answer is East Carnegie "
   ]
  },
  {
   "cell_type": "markdown",
   "metadata": {},
   "source": [
    "<h3> Data set 1: trees </h3>\n",
    "This was a really instresting set to work with just becuase of the scale of the whole thing. "
   ]
  },
  {
   "cell_type": "code",
   "execution_count": 2,
   "metadata": {},
   "outputs": [],
   "source": [
    "import pandas as pd\n",
    "import numpy as np\n",
    "%matplotlib inline"
   ]
  },
  {
   "cell_type": "code",
   "execution_count": 4,
   "metadata": {},
   "outputs": [
    {
     "data": {
      "text/html": [
       "<div>\n",
       "<style scoped>\n",
       "    .dataframe tbody tr th:only-of-type {\n",
       "        vertical-align: middle;\n",
       "    }\n",
       "\n",
       "    .dataframe tbody tr th {\n",
       "        vertical-align: top;\n",
       "    }\n",
       "\n",
       "    .dataframe thead th {\n",
       "        text-align: right;\n",
       "    }\n",
       "</style>\n",
       "<table border=\"1\" class=\"dataframe\">\n",
       "  <thead>\n",
       "    <tr style=\"text-align: right;\">\n",
       "      <th></th>\n",
       "      <th>id</th>\n",
       "      <th>address_number</th>\n",
       "      <th>street</th>\n",
       "      <th>common_name</th>\n",
       "      <th>scientific_name</th>\n",
       "      <th>height</th>\n",
       "      <th>width</th>\n",
       "      <th>growth_space_length</th>\n",
       "      <th>growth_space_width</th>\n",
       "      <th>growth_space_type</th>\n",
       "      <th>...</th>\n",
       "      <th>neighborhood</th>\n",
       "      <th>council_district</th>\n",
       "      <th>ward</th>\n",
       "      <th>tract</th>\n",
       "      <th>public_works_division</th>\n",
       "      <th>pli_division</th>\n",
       "      <th>police_zone</th>\n",
       "      <th>fire_zone</th>\n",
       "      <th>latitude</th>\n",
       "      <th>longitude</th>\n",
       "    </tr>\n",
       "  </thead>\n",
       "  <tbody>\n",
       "    <tr>\n",
       "      <th>0</th>\n",
       "      <td>754166088</td>\n",
       "      <td>7428</td>\n",
       "      <td>MONTICELLO ST</td>\n",
       "      <td>Stump</td>\n",
       "      <td>Stump</td>\n",
       "      <td>0.0</td>\n",
       "      <td>0.0</td>\n",
       "      <td>10.0</td>\n",
       "      <td>2.0</td>\n",
       "      <td>Well or Pit</td>\n",
       "      <td>...</td>\n",
       "      <td>Homewood North</td>\n",
       "      <td>9.0</td>\n",
       "      <td>13.0</td>\n",
       "      <td>4.200313e+10</td>\n",
       "      <td>2.0</td>\n",
       "      <td>13.0</td>\n",
       "      <td>5.0</td>\n",
       "      <td>3-17</td>\n",
       "      <td>40.458169</td>\n",
       "      <td>-79.889724</td>\n",
       "    </tr>\n",
       "    <tr>\n",
       "      <th>1</th>\n",
       "      <td>1946899269</td>\n",
       "      <td>220</td>\n",
       "      <td>BALVER AVE</td>\n",
       "      <td>Linden: Littleleaf</td>\n",
       "      <td>Tilia cordata</td>\n",
       "      <td>0.0</td>\n",
       "      <td>0.0</td>\n",
       "      <td>99.0</td>\n",
       "      <td>99.0</td>\n",
       "      <td>Open or Unrestricted</td>\n",
       "      <td>...</td>\n",
       "      <td>Oakwood</td>\n",
       "      <td>2.0</td>\n",
       "      <td>28.0</td>\n",
       "      <td>4.200356e+10</td>\n",
       "      <td>5.0</td>\n",
       "      <td>28.0</td>\n",
       "      <td>6.0</td>\n",
       "      <td>1-19</td>\n",
       "      <td>40.429269</td>\n",
       "      <td>-80.067868</td>\n",
       "    </tr>\n",
       "    <tr>\n",
       "      <th>2</th>\n",
       "      <td>1431517397</td>\n",
       "      <td>2822</td>\n",
       "      <td>SIDNEY ST</td>\n",
       "      <td>Maple: Red</td>\n",
       "      <td>Acer rubrum</td>\n",
       "      <td>22.0</td>\n",
       "      <td>6.0</td>\n",
       "      <td>6.0</td>\n",
       "      <td>3.0</td>\n",
       "      <td>Well or Pit</td>\n",
       "      <td>...</td>\n",
       "      <td>South Side Flats</td>\n",
       "      <td>3.0</td>\n",
       "      <td>16.0</td>\n",
       "      <td>4.200316e+10</td>\n",
       "      <td>3.0</td>\n",
       "      <td>16.0</td>\n",
       "      <td>3.0</td>\n",
       "      <td>4-24</td>\n",
       "      <td>40.426797</td>\n",
       "      <td>-79.965035</td>\n",
       "    </tr>\n",
       "    <tr>\n",
       "      <th>3</th>\n",
       "      <td>994063598</td>\n",
       "      <td>608</td>\n",
       "      <td>SUISMON ST</td>\n",
       "      <td>Maple: Freeman</td>\n",
       "      <td>Acer x freemanii</td>\n",
       "      <td>25.0</td>\n",
       "      <td>10.0</td>\n",
       "      <td>3.0</td>\n",
       "      <td>3.0</td>\n",
       "      <td>Well or Pit</td>\n",
       "      <td>...</td>\n",
       "      <td>East Allegheny</td>\n",
       "      <td>1.0</td>\n",
       "      <td>23.0</td>\n",
       "      <td>4.200356e+10</td>\n",
       "      <td>1.0</td>\n",
       "      <td>23.0</td>\n",
       "      <td>1.0</td>\n",
       "      <td>1-6</td>\n",
       "      <td>40.455503</td>\n",
       "      <td>-79.999276</td>\n",
       "    </tr>\n",
       "    <tr>\n",
       "      <th>4</th>\n",
       "      <td>1591838573</td>\n",
       "      <td>1135</td>\n",
       "      <td>N NEGLEY AVE</td>\n",
       "      <td>Maple: Norway</td>\n",
       "      <td>Acer platanoides</td>\n",
       "      <td>52.0</td>\n",
       "      <td>13.0</td>\n",
       "      <td>99.0</td>\n",
       "      <td>99.0</td>\n",
       "      <td>Open or Unrestricted</td>\n",
       "      <td>...</td>\n",
       "      <td>Highland Park</td>\n",
       "      <td>7.0</td>\n",
       "      <td>11.0</td>\n",
       "      <td>4.200311e+10</td>\n",
       "      <td>2.0</td>\n",
       "      <td>11.0</td>\n",
       "      <td>5.0</td>\n",
       "      <td>3-9</td>\n",
       "      <td>40.476667</td>\n",
       "      <td>-79.924106</td>\n",
       "    </tr>\n",
       "  </tbody>\n",
       "</table>\n",
       "<p>5 rows × 58 columns</p>\n",
       "</div>"
      ],
      "text/plain": [
       "           id address_number         street         common_name  \\\n",
       "0   754166088           7428  MONTICELLO ST               Stump   \n",
       "1  1946899269            220     BALVER AVE  Linden: Littleleaf   \n",
       "2  1431517397           2822      SIDNEY ST          Maple: Red   \n",
       "3   994063598            608     SUISMON ST      Maple: Freeman   \n",
       "4  1591838573           1135   N NEGLEY AVE       Maple: Norway   \n",
       "\n",
       "    scientific_name  height  width  growth_space_length  growth_space_width  \\\n",
       "0             Stump     0.0    0.0                 10.0                 2.0   \n",
       "1     Tilia cordata     0.0    0.0                 99.0                99.0   \n",
       "2       Acer rubrum    22.0    6.0                  6.0                 3.0   \n",
       "3  Acer x freemanii    25.0   10.0                  3.0                 3.0   \n",
       "4  Acer platanoides    52.0   13.0                 99.0                99.0   \n",
       "\n",
       "      growth_space_type  ...      neighborhood  council_district  ward  \\\n",
       "0           Well or Pit  ...    Homewood North               9.0  13.0   \n",
       "1  Open or Unrestricted  ...           Oakwood               2.0  28.0   \n",
       "2           Well or Pit  ...  South Side Flats               3.0  16.0   \n",
       "3           Well or Pit  ...    East Allegheny               1.0  23.0   \n",
       "4  Open or Unrestricted  ...     Highland Park               7.0  11.0   \n",
       "\n",
       "          tract public_works_division  pli_division  police_zone  fire_zone  \\\n",
       "0  4.200313e+10                   2.0          13.0          5.0       3-17   \n",
       "1  4.200356e+10                   5.0          28.0          6.0       1-19   \n",
       "2  4.200316e+10                   3.0          16.0          3.0       4-24   \n",
       "3  4.200356e+10                   1.0          23.0          1.0        1-6   \n",
       "4  4.200311e+10                   2.0          11.0          5.0        3-9   \n",
       "\n",
       "    latitude  longitude  \n",
       "0  40.458169 -79.889724  \n",
       "1  40.429269 -80.067868  \n",
       "2  40.426797 -79.965035  \n",
       "3  40.455503 -79.999276  \n",
       "4  40.476667 -79.924106  \n",
       "\n",
       "[5 rows x 58 columns]"
      ]
     },
     "execution_count": 4,
     "metadata": {},
     "output_type": "execute_result"
    }
   ],
   "source": [
    "trees = pd.read_csv(\"tree_Data.csv\", low_memory = False)\n",
    "trees.head(5)"
   ]
  },
  {
   "cell_type": "markdown",
   "metadata": {},
   "source": [
    "Something that I knew that I had to do from the start was really work to make it digestable. To do this I examined all the information that this data set gave me and it was a lot. "
   ]
  },
  {
   "cell_type": "code",
   "execution_count": 13,
   "metadata": {},
   "outputs": [
    {
     "data": {
      "text/html": [
       "<div>\n",
       "<style scoped>\n",
       "    .dataframe tbody tr th:only-of-type {\n",
       "        vertical-align: middle;\n",
       "    }\n",
       "\n",
       "    .dataframe tbody tr th {\n",
       "        vertical-align: top;\n",
       "    }\n",
       "\n",
       "    .dataframe thead th {\n",
       "        text-align: right;\n",
       "    }\n",
       "</style>\n",
       "<table border=\"1\" class=\"dataframe\">\n",
       "  <thead>\n",
       "    <tr style=\"text-align: right;\">\n",
       "      <th></th>\n",
       "      <th>overall_benefits_dollar_value</th>\n",
       "      <th>neighborhood</th>\n",
       "    </tr>\n",
       "  </thead>\n",
       "  <tbody>\n",
       "    <tr>\n",
       "      <th>0</th>\n",
       "      <td>NaN</td>\n",
       "      <td>Homewood North</td>\n",
       "    </tr>\n",
       "    <tr>\n",
       "      <th>1</th>\n",
       "      <td>125.178322</td>\n",
       "      <td>Oakwood</td>\n",
       "    </tr>\n",
       "    <tr>\n",
       "      <th>2</th>\n",
       "      <td>77.767116</td>\n",
       "      <td>South Side Flats</td>\n",
       "    </tr>\n",
       "    <tr>\n",
       "      <th>3</th>\n",
       "      <td>81.838259</td>\n",
       "      <td>East Allegheny</td>\n",
       "    </tr>\n",
       "    <tr>\n",
       "      <th>4</th>\n",
       "      <td>390.538994</td>\n",
       "      <td>Highland Park</td>\n",
       "    </tr>\n",
       "    <tr>\n",
       "      <th>...</th>\n",
       "      <td>...</td>\n",
       "      <td>...</td>\n",
       "    </tr>\n",
       "    <tr>\n",
       "      <th>45704</th>\n",
       "      <td>215.042657</td>\n",
       "      <td>Point Breeze North</td>\n",
       "    </tr>\n",
       "    <tr>\n",
       "      <th>45705</th>\n",
       "      <td>47.889284</td>\n",
       "      <td>Squirrel Hill North</td>\n",
       "    </tr>\n",
       "    <tr>\n",
       "      <th>45706</th>\n",
       "      <td>47.889284</td>\n",
       "      <td>Squirrel Hill North</td>\n",
       "    </tr>\n",
       "    <tr>\n",
       "      <th>45707</th>\n",
       "      <td>47.889284</td>\n",
       "      <td>Squirrel Hill North</td>\n",
       "    </tr>\n",
       "    <tr>\n",
       "      <th>45708</th>\n",
       "      <td>47.889284</td>\n",
       "      <td>Squirrel Hill North</td>\n",
       "    </tr>\n",
       "  </tbody>\n",
       "</table>\n",
       "<p>45709 rows × 2 columns</p>\n",
       "</div>"
      ],
      "text/plain": [
       "       overall_benefits_dollar_value         neighborhood\n",
       "0                                NaN       Homewood North\n",
       "1                         125.178322              Oakwood\n",
       "2                          77.767116     South Side Flats\n",
       "3                          81.838259       East Allegheny\n",
       "4                         390.538994        Highland Park\n",
       "...                              ...                  ...\n",
       "45704                     215.042657   Point Breeze North\n",
       "45705                      47.889284  Squirrel Hill North\n",
       "45706                      47.889284  Squirrel Hill North\n",
       "45707                      47.889284  Squirrel Hill North\n",
       "45708                      47.889284  Squirrel Hill North\n",
       "\n",
       "[45709 rows x 2 columns]"
      ]
     },
     "execution_count": 13,
     "metadata": {},
     "output_type": "execute_result"
    }
   ],
   "source": [
    "trees.filter(items = ['overall_benefits_dollar_value','neighborhood'])"
   ]
  },
  {
   "cell_type": "markdown",
   "metadata": {},
   "source": [
    "A simple filter on the data set shows that there is actualy some very usefull data in here. If I was going to use somthing as metric it would be similar to this as the value of a dollar is very easy to digest.  "
   ]
  },
  {
   "cell_type": "code",
   "execution_count": 15,
   "metadata": {},
   "outputs": [],
   "source": [
    "tree_dict = (trees.groupby('neighborhood').overall_benefits_dollar_value.median()).to_dict() "
   ]
  },
  {
   "cell_type": "code",
   "execution_count": 16,
   "metadata": {},
   "outputs": [
    {
     "name": "stdout",
     "output_type": "stream",
     "text": [
      "{'Allegheny Center': 174.623107103, 'Allegheny West': 120.062255169, 'Allentown': 117.2930078085, 'Arlington': 49.008668432099995, 'Arlington Heights': 202.272850786, 'Banksville': 116.702199174, 'Bedford Dwellings': 48.0984067239, 'Beechview': 92.8053268554, 'Beltzhoover': 108.730609964, 'Bloomfield': 82.2188501225, 'Bluff': 68.9389532889, 'Bon Air': 88.7894182384, 'Brighton Heights': 109.86041445800001, 'Brookline': 118.773008461, 'California-Kirkbride': 105.047563877, 'Carrick': 90.2032728081, 'Central Business District': 82.8933780303, 'Central Lawrenceville': 56.2121691941, 'Central Northside': 85.6451174555, 'Central Oakland': 110.520653484, 'Chartiers City': 117.8465146625, 'Chateau': 96.5507091598, 'Crafton Heights': 116.702199174, 'Crawford-Roberts': 85.6451174555, 'Duquesne Heights': 72.4832284541, 'East Allegheny': 87.850429656, 'East Carnegie': 184.9555221905, 'East Hills': 135.3272557055, 'East Liberty': 69.2360469007, 'Elliott': 123.242789063, 'Esplen': 106.49164549080001, 'Fairywood': 202.316159079, 'Fineview': 120.820665511, 'Friendship': 72.1045998096, 'Garfield': 76.5534702382, 'Glen Hazel': 78.5211509454, 'Greenfield': 98.809716163, 'Hays': 181.397514538, 'Hazelwood': 108.794785311, 'Highland Park': 133.567123119, 'Homewood North': 107.786879708, 'Homewood South': 103.772217934, 'Homewood West': 87.39967760835, 'Knoxville': 92.76926735925, 'Larimer': 84.3469195268, 'Lincoln Place': 124.276281086, 'Lincoln-Lemington-Belmar': 138.351146614, 'Lower Lawrenceville': 78.1785479538, 'Manchester': 101.747485589, 'Marshall-Shadeland': 94.0127437351, 'Middle Hill': 82.4040523167, 'Morningside': 79.4514048497, 'Mount Washington': 91.23531207529999, 'Mt. Oliver': 90.3446322669, 'New Homestead': 123.242789063, 'North Oakland': 84.9256422505, 'North Shore': 98.0461193954, 'Northview Heights': 171.760133029, 'Oakwood': 120.062255169, 'Overbrook': 103.247565604, 'Perry North': 130.8321488515, 'Perry South': 116.702199174, 'Point Breeze': 123.242789063, 'Point Breeze North': 120.704261263, 'Polish Hill': 48.9348136693, 'Regent Square': 129.48139621, 'Ridgemont': 96.7441537084, 'Shadyside': 113.307835532, 'Sheraden': 118.198633005, 'South Oakland': 68.9389532889, 'South Shore': 45.616670188, 'South Side Flats': 71.6890635197, 'South Side Slopes': 68.9389532889, 'Spring Garden': 90.9082134164, 'Spring Hill-City View': 98.33600310874999, 'Squirrel Hill North': 150.348901538, 'Squirrel Hill South': 122.596285178, 'St. Clair': 206.2582913845, 'Stanton Heights': 156.780694852, 'Strip District': 66.331961728, 'Summer Hill': 112.903874621, 'Swisshelm Park': 101.370775881, 'Terrace Village': 71.7914789892, 'Troy Hill': 24.4195417545, 'Upper Hill': 104.19028934900001, 'Upper Lawrenceville': 105.056303242, 'West End': 82.8933780303, 'West Oakland': 76.5534702382, 'Westwood': 122.815962165, 'Windgap': 118.08390831349999}\n"
     ]
    }
   ],
   "source": [
    "print(tree_dict)"
   ]
  },
  {
   "cell_type": "markdown",
   "metadata": {},
   "source": [
    "<h3> Why a dictionary </h3>\n",
    "the short answer is that they are faster then python lists mainly becuase it uses hashes to store all the information. However there is another reason on why I stored it in a dictionary. The key-value pair makes it easy to look at and understand.<br>\n",
    "<h3>Why the median </h3> \n",
    "when examining the data distribution it was skewed to the right which in statisitics to measure the middle of data of somthing that is skewed to the right we use the median over the mean."
   ]
  },
  {
   "cell_type": "code",
   "execution_count": 17,
   "metadata": {},
   "outputs": [
    {
     "data": {
      "text/plain": [
       "['St. Clair', 'Fairywood', 'Arlington Heights', 'East Carnegie', 'Hays']"
      ]
     },
     "execution_count": 17,
     "metadata": {},
     "output_type": "execute_result"
    }
   ],
   "source": [
    "sorted(tree_dict, key = tree_dict.get, reverse = True)[:5]"
   ]
  },
  {
   "cell_type": "markdown",
   "metadata": {},
   "source": [
    "These values have the highest means for benefits in dollar value. <br> in terms of the tree data you could easily make the case for any of these specificly.  "
   ]
  },
  {
   "cell_type": "markdown",
   "metadata": {},
   "source": [
    "<h1> Data set 2 Fires </h1>"
   ]
  },
  {
   "cell_type": "code",
   "execution_count": 2,
   "metadata": {},
   "outputs": [],
   "source": [
    "import pandas as pd\n",
    "%matplotlib inline\n",
    "# import pandas and matplotlib"
   ]
  },
  {
   "cell_type": "code",
   "execution_count": 3,
   "metadata": {},
   "outputs": [
    {
     "data": {
      "text/html": [
       "<div>\n",
       "<style scoped>\n",
       "    .dataframe tbody tr th:only-of-type {\n",
       "        vertical-align: middle;\n",
       "    }\n",
       "\n",
       "    .dataframe tbody tr th {\n",
       "        vertical-align: top;\n",
       "    }\n",
       "\n",
       "    .dataframe thead th {\n",
       "        text-align: right;\n",
       "    }\n",
       "</style>\n",
       "<table border=\"1\" class=\"dataframe\">\n",
       "  <thead>\n",
       "    <tr style=\"text-align: right;\">\n",
       "      <th></th>\n",
       "      <th>call_no</th>\n",
       "      <th>incident_type</th>\n",
       "      <th>type_description</th>\n",
       "      <th>address</th>\n",
       "      <th>alarm_time</th>\n",
       "      <th>alarms</th>\n",
       "      <th>primary_unit</th>\n",
       "      <th>census_tract</th>\n",
       "      <th>neighborhood</th>\n",
       "      <th>council_district</th>\n",
       "      <th>ward</th>\n",
       "      <th>tract</th>\n",
       "      <th>public_works_division</th>\n",
       "      <th>pli_division</th>\n",
       "      <th>police_zone</th>\n",
       "      <th>fire_zone</th>\n",
       "      <th>latitude</th>\n",
       "      <th>longitude</th>\n",
       "    </tr>\n",
       "  </thead>\n",
       "  <tbody>\n",
       "    <tr>\n",
       "      <th>0</th>\n",
       "      <td>F160029985</td>\n",
       "      <td>111.0</td>\n",
       "      <td>Building fire</td>\n",
       "      <td>800 BLOCK CENTER ST, WILKINSBURG PA 15221</td>\n",
       "      <td>2016-04-21T05:01:04</td>\n",
       "      <td>1</td>\n",
       "      <td>231EN16</td>\n",
       "      <td>NaN</td>\n",
       "      <td>NaN</td>\n",
       "      <td>NaN</td>\n",
       "      <td>NaN</td>\n",
       "      <td>4.200356e+10</td>\n",
       "      <td>NaN</td>\n",
       "      <td>NaN</td>\n",
       "      <td>NaN</td>\n",
       "      <td>3-16</td>\n",
       "      <td>40.441275</td>\n",
       "      <td>-79.882485</td>\n",
       "    </tr>\n",
       "    <tr>\n",
       "      <th>1</th>\n",
       "      <td>F180022058</td>\n",
       "      <td>111.0</td>\n",
       "      <td>Building fire</td>\n",
       "      <td>1100 BLOCK JANE ST, WILKINSBURG PA 15221</td>\n",
       "      <td>2018-03-13T08:34:43</td>\n",
       "      <td>1</td>\n",
       "      <td>231EN16</td>\n",
       "      <td>NaN</td>\n",
       "      <td>NaN</td>\n",
       "      <td>NaN</td>\n",
       "      <td>NaN</td>\n",
       "      <td>4.200356e+10</td>\n",
       "      <td>NaN</td>\n",
       "      <td>NaN</td>\n",
       "      <td>NaN</td>\n",
       "      <td>3-21</td>\n",
       "      <td>40.436342</td>\n",
       "      <td>-79.881003</td>\n",
       "    </tr>\n",
       "    <tr>\n",
       "      <th>2</th>\n",
       "      <td>F180022102</td>\n",
       "      <td>131.0</td>\n",
       "      <td>Passenger vehicle fire</td>\n",
       "      <td>SB STATE HWY 28 SB AT 31S, PITTSBURGH PA 15212</td>\n",
       "      <td>2018-03-13T11:54:23</td>\n",
       "      <td>0</td>\n",
       "      <td>231EN32</td>\n",
       "      <td>2406.0</td>\n",
       "      <td>NaN</td>\n",
       "      <td>NaN</td>\n",
       "      <td>NaN</td>\n",
       "      <td>NaN</td>\n",
       "      <td>NaN</td>\n",
       "      <td>NaN</td>\n",
       "      <td>NaN</td>\n",
       "      <td>1-1A</td>\n",
       "      <td>NaN</td>\n",
       "      <td>NaN</td>\n",
       "    </tr>\n",
       "    <tr>\n",
       "      <th>3</th>\n",
       "      <td>F170043431</td>\n",
       "      <td>131.0</td>\n",
       "      <td>Passenger vehicle fire</td>\n",
       "      <td>1700 BLOCK BELLEAU DR, PITTSBURGH PA 15212</td>\n",
       "      <td>2017-05-31T08:39:47</td>\n",
       "      <td>0</td>\n",
       "      <td>231EN38</td>\n",
       "      <td>2509.0</td>\n",
       "      <td>Fineview</td>\n",
       "      <td>6.0</td>\n",
       "      <td>25.0</td>\n",
       "      <td>4.200325e+10</td>\n",
       "      <td>1.0</td>\n",
       "      <td>25.0</td>\n",
       "      <td>1.0</td>\n",
       "      <td>1-10</td>\n",
       "      <td>40.460303</td>\n",
       "      <td>-80.006980</td>\n",
       "    </tr>\n",
       "    <tr>\n",
       "      <th>4</th>\n",
       "      <td>F180021111</td>\n",
       "      <td>111.0</td>\n",
       "      <td>Building fire</td>\n",
       "      <td>2400 BLOCK VILLAGE RD, PITTSBURGH PA 15205</td>\n",
       "      <td>2018-03-09T10:26:42</td>\n",
       "      <td>1</td>\n",
       "      <td>231EN31</td>\n",
       "      <td>2808.0</td>\n",
       "      <td>Fairywood</td>\n",
       "      <td>2.0</td>\n",
       "      <td>28.0</td>\n",
       "      <td>4.200356e+10</td>\n",
       "      <td>5.0</td>\n",
       "      <td>28.0</td>\n",
       "      <td>6.0</td>\n",
       "      <td>1-16</td>\n",
       "      <td>40.449009</td>\n",
       "      <td>-80.076607</td>\n",
       "    </tr>\n",
       "  </tbody>\n",
       "</table>\n",
       "</div>"
      ],
      "text/plain": [
       "      call_no  incident_type        type_description  \\\n",
       "0  F160029985          111.0           Building fire   \n",
       "1  F180022058          111.0           Building fire   \n",
       "2  F180022102          131.0  Passenger vehicle fire   \n",
       "3  F170043431          131.0  Passenger vehicle fire   \n",
       "4  F180021111          111.0           Building fire   \n",
       "\n",
       "                                          address           alarm_time  \\\n",
       "0       800 BLOCK CENTER ST, WILKINSBURG PA 15221  2016-04-21T05:01:04   \n",
       "1        1100 BLOCK JANE ST, WILKINSBURG PA 15221  2018-03-13T08:34:43   \n",
       "2  SB STATE HWY 28 SB AT 31S, PITTSBURGH PA 15212  2018-03-13T11:54:23   \n",
       "3      1700 BLOCK BELLEAU DR, PITTSBURGH PA 15212  2017-05-31T08:39:47   \n",
       "4      2400 BLOCK VILLAGE RD, PITTSBURGH PA 15205  2018-03-09T10:26:42   \n",
       "\n",
       "   alarms primary_unit  census_tract neighborhood  council_district  ward  \\\n",
       "0       1      231EN16           NaN          NaN               NaN   NaN   \n",
       "1       1      231EN16           NaN          NaN               NaN   NaN   \n",
       "2       0      231EN32        2406.0          NaN               NaN   NaN   \n",
       "3       0      231EN38        2509.0     Fineview               6.0  25.0   \n",
       "4       1      231EN31        2808.0    Fairywood               2.0  28.0   \n",
       "\n",
       "          tract  public_works_division  pli_division  police_zone fire_zone  \\\n",
       "0  4.200356e+10                    NaN           NaN          NaN      3-16   \n",
       "1  4.200356e+10                    NaN           NaN          NaN      3-21   \n",
       "2           NaN                    NaN           NaN          NaN      1-1A   \n",
       "3  4.200325e+10                    1.0          25.0          1.0      1-10   \n",
       "4  4.200356e+10                    5.0          28.0          6.0      1-16   \n",
       "\n",
       "    latitude  longitude  \n",
       "0  40.441275 -79.882485  \n",
       "1  40.436342 -79.881003  \n",
       "2        NaN        NaN  \n",
       "3  40.460303 -80.006980  \n",
       "4  40.449009 -80.076607  "
      ]
     },
     "execution_count": 3,
     "metadata": {},
     "output_type": "execute_result"
    }
   ],
   "source": [
    "fire = pd.read_csv(\"Fire.csv\")\n",
    "fire.head(5)\n",
    "# get some basic idea about the dataset"
   ]
  },
  {
   "cell_type": "code",
   "execution_count": 4,
   "metadata": {},
   "outputs": [
    {
     "data": {
      "text/html": [
       "<div>\n",
       "<style scoped>\n",
       "    .dataframe tbody tr th:only-of-type {\n",
       "        vertical-align: middle;\n",
       "    }\n",
       "\n",
       "    .dataframe tbody tr th {\n",
       "        vertical-align: top;\n",
       "    }\n",
       "\n",
       "    .dataframe thead th {\n",
       "        text-align: right;\n",
       "    }\n",
       "</style>\n",
       "<table border=\"1\" class=\"dataframe\">\n",
       "  <thead>\n",
       "    <tr style=\"text-align: right;\">\n",
       "      <th></th>\n",
       "      <th>incident_type</th>\n",
       "      <th>neighborhood</th>\n",
       "    </tr>\n",
       "  </thead>\n",
       "  <tbody>\n",
       "    <tr>\n",
       "      <th>3832</th>\n",
       "      <td>111.0</td>\n",
       "      <td>East Hills</td>\n",
       "    </tr>\n",
       "    <tr>\n",
       "      <th>6785</th>\n",
       "      <td>113.0</td>\n",
       "      <td>Homewood South</td>\n",
       "    </tr>\n",
       "    <tr>\n",
       "      <th>2915</th>\n",
       "      <td>151.0</td>\n",
       "      <td>NaN</td>\n",
       "    </tr>\n",
       "    <tr>\n",
       "      <th>4295</th>\n",
       "      <td>131.0</td>\n",
       "      <td>Hazelwood</td>\n",
       "    </tr>\n",
       "    <tr>\n",
       "      <th>3427</th>\n",
       "      <td>131.0</td>\n",
       "      <td>Perry North</td>\n",
       "    </tr>\n",
       "  </tbody>\n",
       "</table>\n",
       "</div>"
      ],
      "text/plain": [
       "      incident_type    neighborhood\n",
       "3832          111.0      East Hills\n",
       "6785          113.0  Homewood South\n",
       "2915          151.0             NaN\n",
       "4295          131.0       Hazelwood\n",
       "3427          131.0     Perry North"
      ]
     },
     "execution_count": 4,
     "metadata": {},
     "output_type": "execute_result"
    }
   ],
   "source": [
    "fire = fire.drop(axis = 1, labels = 'address')\n",
    "fire = fire.drop(axis = 1, labels = 'census_tract')\n",
    "fire = fire.drop(axis = 1, labels = 'ward')\n",
    "fire = fire.drop(axis = 1, labels = 'tract')\n",
    "fire = fire.drop(axis = 1, labels = 'public_works_division')\n",
    "fire = fire.drop(axis = 1, labels = 'pli_division')\n",
    "fire = fire.drop(axis = 1, labels = 'police_zone')\n",
    "fire = fire.drop(axis = 1, labels = 'latitude')\n",
    "fire = fire.drop(axis = 1, labels = 'longitude')\n",
    "fire = fire.drop(axis = 1, labels = 'call_no')\n",
    "fire = fire.drop(axis = 1, labels = 'type_description')\n",
    "fire = fire.drop(axis = 1, labels = 'alarm_time')\n",
    "fire = fire.drop(axis = 1, labels = 'alarms')\n",
    "fire = fire.drop(axis = 1, labels = 'council_district')\n",
    "fire = fire.drop(axis = 1, labels = 'primary_unit')\n",
    "fire = fire.drop(axis = 1, labels = 'fire_zone')\n",
    "fire.sample(5)\n",
    "# filter out columns that are not helpful to the metrix"
   ]
  },
  {
   "cell_type": "code",
   "execution_count": 5,
   "metadata": {},
   "outputs": [
    {
     "data": {
      "text/html": [
       "<div>\n",
       "<style scoped>\n",
       "    .dataframe tbody tr th:only-of-type {\n",
       "        vertical-align: middle;\n",
       "    }\n",
       "\n",
       "    .dataframe tbody tr th {\n",
       "        vertical-align: top;\n",
       "    }\n",
       "\n",
       "    .dataframe thead th {\n",
       "        text-align: right;\n",
       "    }\n",
       "</style>\n",
       "<table border=\"1\" class=\"dataframe\">\n",
       "  <thead>\n",
       "    <tr style=\"text-align: right;\">\n",
       "      <th></th>\n",
       "      <th>incident_type</th>\n",
       "      <th>neighborhood</th>\n",
       "    </tr>\n",
       "  </thead>\n",
       "  <tbody>\n",
       "    <tr>\n",
       "      <th>623</th>\n",
       "      <td>100.0</td>\n",
       "      <td>Squirrel Hill South</td>\n",
       "    </tr>\n",
       "    <tr>\n",
       "      <th>7387</th>\n",
       "      <td>100.0</td>\n",
       "      <td>Bluff</td>\n",
       "    </tr>\n",
       "    <tr>\n",
       "      <th>5737</th>\n",
       "      <td>100.0</td>\n",
       "      <td>Beltzhoover</td>\n",
       "    </tr>\n",
       "    <tr>\n",
       "      <th>5124</th>\n",
       "      <td>100.0</td>\n",
       "      <td>Beltzhoover</td>\n",
       "    </tr>\n",
       "    <tr>\n",
       "      <th>3837</th>\n",
       "      <td>100.0</td>\n",
       "      <td>East Allegheny</td>\n",
       "    </tr>\n",
       "    <tr>\n",
       "      <th>...</th>\n",
       "      <td>...</td>\n",
       "      <td>...</td>\n",
       "    </tr>\n",
       "    <tr>\n",
       "      <th>4455</th>\n",
       "      <td>170.0</td>\n",
       "      <td>California-Kirkbride</td>\n",
       "    </tr>\n",
       "    <tr>\n",
       "      <th>3902</th>\n",
       "      <td>170.0</td>\n",
       "      <td>Point Breeze North</td>\n",
       "    </tr>\n",
       "    <tr>\n",
       "      <th>7184</th>\n",
       "      <td>170.0</td>\n",
       "      <td>South Side Slopes</td>\n",
       "    </tr>\n",
       "    <tr>\n",
       "      <th>2120</th>\n",
       "      <td>171.0</td>\n",
       "      <td>Manchester</td>\n",
       "    </tr>\n",
       "    <tr>\n",
       "      <th>873</th>\n",
       "      <td>173.0</td>\n",
       "      <td>East Liberty</td>\n",
       "    </tr>\n",
       "  </tbody>\n",
       "</table>\n",
       "<p>6714 rows × 2 columns</p>\n",
       "</div>"
      ],
      "text/plain": [
       "      incident_type          neighborhood\n",
       "623           100.0   Squirrel Hill South\n",
       "7387          100.0                 Bluff\n",
       "5737          100.0           Beltzhoover\n",
       "5124          100.0           Beltzhoover\n",
       "3837          100.0        East Allegheny\n",
       "...             ...                   ...\n",
       "4455          170.0  California-Kirkbride\n",
       "3902          170.0    Point Breeze North\n",
       "7184          170.0     South Side Slopes\n",
       "2120          171.0            Manchester\n",
       "873           173.0          East Liberty\n",
       "\n",
       "[6714 rows x 2 columns]"
      ]
     },
     "execution_count": 5,
     "metadata": {},
     "output_type": "execute_result"
    }
   ],
   "source": [
    "fire.dropna(axis = 0, inplace = True)\n",
    "fire.sort_values(\"incident_type\")\n",
    "# drop nan values out and sort based on incident type"
   ]
  },
  {
   "cell_type": "code",
   "execution_count": 6,
   "metadata": {},
   "outputs": [
    {
     "data": {
      "text/html": [
       "<div>\n",
       "<style scoped>\n",
       "    .dataframe tbody tr th:only-of-type {\n",
       "        vertical-align: middle;\n",
       "    }\n",
       "\n",
       "    .dataframe tbody tr th {\n",
       "        vertical-align: top;\n",
       "    }\n",
       "\n",
       "    .dataframe thead th {\n",
       "        text-align: right;\n",
       "    }\n",
       "</style>\n",
       "<table border=\"1\" class=\"dataframe\">\n",
       "  <thead>\n",
       "    <tr style=\"text-align: right;\">\n",
       "      <th></th>\n",
       "      <th>incident_type</th>\n",
       "      <th>neighborhood</th>\n",
       "      <th>value</th>\n",
       "    </tr>\n",
       "  </thead>\n",
       "  <tbody>\n",
       "    <tr>\n",
       "      <th>491</th>\n",
       "      <td>113.0</td>\n",
       "      <td>Central Business District</td>\n",
       "      <td>1.0</td>\n",
       "    </tr>\n",
       "    <tr>\n",
       "      <th>4073</th>\n",
       "      <td>111.0</td>\n",
       "      <td>Middle Hill</td>\n",
       "      <td>1.2</td>\n",
       "    </tr>\n",
       "    <tr>\n",
       "      <th>3217</th>\n",
       "      <td>112.0</td>\n",
       "      <td>Central Business District</td>\n",
       "      <td>1.0</td>\n",
       "    </tr>\n",
       "    <tr>\n",
       "      <th>4991</th>\n",
       "      <td>131.0</td>\n",
       "      <td>Beltzhoover</td>\n",
       "      <td>1.5</td>\n",
       "    </tr>\n",
       "    <tr>\n",
       "      <th>4883</th>\n",
       "      <td>113.0</td>\n",
       "      <td>Lincoln-Lemington-Belmar</td>\n",
       "      <td>1.0</td>\n",
       "    </tr>\n",
       "    <tr>\n",
       "      <th>1589</th>\n",
       "      <td>113.0</td>\n",
       "      <td>Lincoln-Lemington-Belmar</td>\n",
       "      <td>1.0</td>\n",
       "    </tr>\n",
       "    <tr>\n",
       "      <th>5210</th>\n",
       "      <td>111.0</td>\n",
       "      <td>Homewood North</td>\n",
       "      <td>1.2</td>\n",
       "    </tr>\n",
       "    <tr>\n",
       "      <th>1223</th>\n",
       "      <td>111.0</td>\n",
       "      <td>Oakwood</td>\n",
       "      <td>1.2</td>\n",
       "    </tr>\n",
       "    <tr>\n",
       "      <th>2667</th>\n",
       "      <td>131.0</td>\n",
       "      <td>North Oakland</td>\n",
       "      <td>1.5</td>\n",
       "    </tr>\n",
       "    <tr>\n",
       "      <th>1829</th>\n",
       "      <td>113.0</td>\n",
       "      <td>Hazelwood</td>\n",
       "      <td>1.0</td>\n",
       "    </tr>\n",
       "  </tbody>\n",
       "</table>\n",
       "</div>"
      ],
      "text/plain": [
       "      incident_type               neighborhood  value\n",
       "491           113.0  Central Business District    1.0\n",
       "4073          111.0                Middle Hill    1.2\n",
       "3217          112.0  Central Business District    1.0\n",
       "4991          131.0                Beltzhoover    1.5\n",
       "4883          113.0   Lincoln-Lemington-Belmar    1.0\n",
       "1589          113.0   Lincoln-Lemington-Belmar    1.0\n",
       "5210          111.0             Homewood North    1.2\n",
       "1223          111.0                    Oakwood    1.2\n",
       "2667          131.0              North Oakland    1.5\n",
       "1829          113.0                  Hazelwood    1.0"
      ]
     },
     "execution_count": 6,
     "metadata": {},
     "output_type": "execute_result"
    }
   ],
   "source": [
    "weighted_case = []\n",
    "size = fire['incident_type'].size\n",
    "for i in range (size):\n",
    "    if (fire.iat[i, 0] == 111):\n",
    "        weighted_case.append(1.2)\n",
    "    elif (fire.iat[i, 0] == 131):\n",
    "        weighted_case.append(1.5)\n",
    "    else:\n",
    "        weighted_case.append(1)\n",
    "# print(weighted_case)\n",
    "fire[\"value\"] = weighted_case\n",
    "fire.sample(10)\n",
    "# create weight based on type of fire incident, I think some types of fire are more dangerous than others"
   ]
  },
  {
   "cell_type": "code",
   "execution_count": 7,
   "metadata": {},
   "outputs": [],
   "source": [
    "values = fire.groupby(['neighborhood']).mean()\n",
    "# calculate the overall \"dangerousness\" of each neighborhood"
   ]
  },
  {
   "cell_type": "code",
   "execution_count": 8,
   "metadata": {},
   "outputs": [
    {
     "data": {
      "text/html": [
       "<div>\n",
       "<style scoped>\n",
       "    .dataframe tbody tr th:only-of-type {\n",
       "        vertical-align: middle;\n",
       "    }\n",
       "\n",
       "    .dataframe tbody tr th {\n",
       "        vertical-align: top;\n",
       "    }\n",
       "\n",
       "    .dataframe thead th {\n",
       "        text-align: right;\n",
       "    }\n",
       "</style>\n",
       "<table border=\"1\" class=\"dataframe\">\n",
       "  <thead>\n",
       "    <tr style=\"text-align: right;\">\n",
       "      <th></th>\n",
       "      <th>incident_type</th>\n",
       "      <th>value</th>\n",
       "    </tr>\n",
       "    <tr>\n",
       "      <th>neighborhood</th>\n",
       "      <th></th>\n",
       "      <th></th>\n",
       "    </tr>\n",
       "  </thead>\n",
       "  <tbody>\n",
       "    <tr>\n",
       "      <th>Allegheny Center</th>\n",
       "      <td>131.204082</td>\n",
       "      <td>1.038776</td>\n",
       "    </tr>\n",
       "    <tr>\n",
       "      <th>Allegheny West</th>\n",
       "      <td>135.470588</td>\n",
       "      <td>1.147059</td>\n",
       "    </tr>\n",
       "    <tr>\n",
       "      <th>Allentown</th>\n",
       "      <td>124.990566</td>\n",
       "      <td>1.128302</td>\n",
       "    </tr>\n",
       "    <tr>\n",
       "      <th>Arlington</th>\n",
       "      <td>132.121951</td>\n",
       "      <td>1.085366</td>\n",
       "    </tr>\n",
       "    <tr>\n",
       "      <th>Arlington Heights</th>\n",
       "      <td>120.250000</td>\n",
       "      <td>1.058333</td>\n",
       "    </tr>\n",
       "    <tr>\n",
       "      <th>Banksville</th>\n",
       "      <td>128.372549</td>\n",
       "      <td>1.098039</td>\n",
       "    </tr>\n",
       "    <tr>\n",
       "      <th>Bedford Dwellings</th>\n",
       "      <td>122.277778</td>\n",
       "      <td>1.075000</td>\n",
       "    </tr>\n",
       "    <tr>\n",
       "      <th>Beechview</th>\n",
       "      <td>127.092437</td>\n",
       "      <td>1.133613</td>\n",
       "    </tr>\n",
       "    <tr>\n",
       "      <th>Beltzhoover</th>\n",
       "      <td>124.486239</td>\n",
       "      <td>1.146789</td>\n",
       "    </tr>\n",
       "    <tr>\n",
       "      <th>Bloomfield</th>\n",
       "      <td>127.550000</td>\n",
       "      <td>1.066429</td>\n",
       "    </tr>\n",
       "  </tbody>\n",
       "</table>\n",
       "</div>"
      ],
      "text/plain": [
       "                   incident_type     value\n",
       "neighborhood                              \n",
       "Allegheny Center      131.204082  1.038776\n",
       "Allegheny West        135.470588  1.147059\n",
       "Allentown             124.990566  1.128302\n",
       "Arlington             132.121951  1.085366\n",
       "Arlington Heights     120.250000  1.058333\n",
       "Banksville            128.372549  1.098039\n",
       "Bedford Dwellings     122.277778  1.075000\n",
       "Beechview             127.092437  1.133613\n",
       "Beltzhoover           124.486239  1.146789\n",
       "Bloomfield            127.550000  1.066429"
      ]
     },
     "execution_count": 8,
     "metadata": {},
     "output_type": "execute_result"
    }
   ],
   "source": [
    "values.head(10)"
   ]
  },
  {
   "cell_type": "code",
   "execution_count": 9,
   "metadata": {},
   "outputs": [],
   "source": [
    "values.drop(axis = 1, labels = \"incident_type\", inplace = True)\n",
    "# but the mean of incident code doesn't mean anything so dropped"
   ]
  },
  {
   "cell_type": "code",
   "execution_count": 10,
   "metadata": {},
   "outputs": [],
   "source": [
    "fbn = fire.groupby(['neighborhood']).count()\n",
    "fbn.drop(axis = 1, labels = \"value\", inplace = True)\n",
    "# get the number of incidents"
   ]
  },
  {
   "cell_type": "code",
   "execution_count": 11,
   "metadata": {},
   "outputs": [
    {
     "data": {
      "text/html": [
       "<div>\n",
       "<style scoped>\n",
       "    .dataframe tbody tr th:only-of-type {\n",
       "        vertical-align: middle;\n",
       "    }\n",
       "\n",
       "    .dataframe tbody tr th {\n",
       "        vertical-align: top;\n",
       "    }\n",
       "\n",
       "    .dataframe thead th {\n",
       "        text-align: right;\n",
       "    }\n",
       "</style>\n",
       "<table border=\"1\" class=\"dataframe\">\n",
       "  <thead>\n",
       "    <tr style=\"text-align: right;\">\n",
       "      <th></th>\n",
       "      <th>incident_type</th>\n",
       "    </tr>\n",
       "    <tr>\n",
       "      <th>neighborhood</th>\n",
       "      <th></th>\n",
       "    </tr>\n",
       "  </thead>\n",
       "  <tbody>\n",
       "    <tr>\n",
       "      <th>Allegheny Center</th>\n",
       "      <td>49</td>\n",
       "    </tr>\n",
       "    <tr>\n",
       "      <th>Allegheny West</th>\n",
       "      <td>34</td>\n",
       "    </tr>\n",
       "    <tr>\n",
       "      <th>Allentown</th>\n",
       "      <td>106</td>\n",
       "    </tr>\n",
       "    <tr>\n",
       "      <th>Arlington</th>\n",
       "      <td>41</td>\n",
       "    </tr>\n",
       "    <tr>\n",
       "      <th>Arlington Heights</th>\n",
       "      <td>12</td>\n",
       "    </tr>\n",
       "  </tbody>\n",
       "</table>\n",
       "</div>"
      ],
      "text/plain": [
       "                   incident_type\n",
       "neighborhood                    \n",
       "Allegheny Center              49\n",
       "Allegheny West                34\n",
       "Allentown                    106\n",
       "Arlington                     41\n",
       "Arlington Heights             12"
      ]
     },
     "execution_count": 11,
     "metadata": {},
     "output_type": "execute_result"
    }
   ],
   "source": [
    "fbn.head(5)"
   ]
  },
  {
   "cell_type": "code",
   "execution_count": 12,
   "metadata": {},
   "outputs": [],
   "source": [
    "fbn.rename(columns = {\"incident_type\": \"case_count\"}, inplace = True)"
   ]
  },
  {
   "cell_type": "code",
   "execution_count": 13,
   "metadata": {},
   "outputs": [
    {
     "data": {
      "text/html": [
       "<div>\n",
       "<style scoped>\n",
       "    .dataframe tbody tr th:only-of-type {\n",
       "        vertical-align: middle;\n",
       "    }\n",
       "\n",
       "    .dataframe tbody tr th {\n",
       "        vertical-align: top;\n",
       "    }\n",
       "\n",
       "    .dataframe thead th {\n",
       "        text-align: right;\n",
       "    }\n",
       "</style>\n",
       "<table border=\"1\" class=\"dataframe\">\n",
       "  <thead>\n",
       "    <tr style=\"text-align: right;\">\n",
       "      <th></th>\n",
       "      <th>case_count</th>\n",
       "    </tr>\n",
       "    <tr>\n",
       "      <th>neighborhood</th>\n",
       "      <th></th>\n",
       "    </tr>\n",
       "  </thead>\n",
       "  <tbody>\n",
       "    <tr>\n",
       "      <th>Allegheny Center</th>\n",
       "      <td>49</td>\n",
       "    </tr>\n",
       "    <tr>\n",
       "      <th>Allegheny West</th>\n",
       "      <td>34</td>\n",
       "    </tr>\n",
       "    <tr>\n",
       "      <th>Allentown</th>\n",
       "      <td>106</td>\n",
       "    </tr>\n",
       "    <tr>\n",
       "      <th>Arlington</th>\n",
       "      <td>41</td>\n",
       "    </tr>\n",
       "    <tr>\n",
       "      <th>Arlington Heights</th>\n",
       "      <td>12</td>\n",
       "    </tr>\n",
       "  </tbody>\n",
       "</table>\n",
       "</div>"
      ],
      "text/plain": [
       "                   case_count\n",
       "neighborhood                 \n",
       "Allegheny Center           49\n",
       "Allegheny West             34\n",
       "Allentown                 106\n",
       "Arlington                  41\n",
       "Arlington Heights          12"
      ]
     },
     "execution_count": 13,
     "metadata": {},
     "output_type": "execute_result"
    }
   ],
   "source": [
    "fbn.head(5)"
   ]
  },
  {
   "cell_type": "code",
   "execution_count": 14,
   "metadata": {},
   "outputs": [
    {
     "data": {
      "text/html": [
       "<div>\n",
       "<style scoped>\n",
       "    .dataframe tbody tr th:only-of-type {\n",
       "        vertical-align: middle;\n",
       "    }\n",
       "\n",
       "    .dataframe tbody tr th {\n",
       "        vertical-align: top;\n",
       "    }\n",
       "\n",
       "    .dataframe thead th {\n",
       "        text-align: right;\n",
       "    }\n",
       "</style>\n",
       "<table border=\"1\" class=\"dataframe\">\n",
       "  <thead>\n",
       "    <tr style=\"text-align: right;\">\n",
       "      <th></th>\n",
       "      <th>case_count</th>\n",
       "    </tr>\n",
       "    <tr>\n",
       "      <th>neighborhood</th>\n",
       "      <th></th>\n",
       "    </tr>\n",
       "  </thead>\n",
       "  <tbody>\n",
       "    <tr>\n",
       "      <th>Regent Square</th>\n",
       "      <td>6</td>\n",
       "    </tr>\n",
       "    <tr>\n",
       "      <th>Mount Oliver Borough</th>\n",
       "      <td>6</td>\n",
       "    </tr>\n",
       "    <tr>\n",
       "      <th>East Carnegie</th>\n",
       "      <td>8</td>\n",
       "    </tr>\n",
       "    <tr>\n",
       "      <th>Mt. Oliver</th>\n",
       "      <td>10</td>\n",
       "    </tr>\n",
       "    <tr>\n",
       "      <th>Chartiers City</th>\n",
       "      <td>11</td>\n",
       "    </tr>\n",
       "    <tr>\n",
       "      <th>...</th>\n",
       "      <td>...</td>\n",
       "    </tr>\n",
       "    <tr>\n",
       "      <th>Hazelwood</th>\n",
       "      <td>206</td>\n",
       "    </tr>\n",
       "    <tr>\n",
       "      <th>South Side Flats</th>\n",
       "      <td>207</td>\n",
       "    </tr>\n",
       "    <tr>\n",
       "      <th>Squirrel Hill South</th>\n",
       "      <td>210</td>\n",
       "    </tr>\n",
       "    <tr>\n",
       "      <th>Central Business District</th>\n",
       "      <td>213</td>\n",
       "    </tr>\n",
       "    <tr>\n",
       "      <th>Carrick</th>\n",
       "      <td>235</td>\n",
       "    </tr>\n",
       "  </tbody>\n",
       "</table>\n",
       "<p>91 rows × 1 columns</p>\n",
       "</div>"
      ],
      "text/plain": [
       "                           case_count\n",
       "neighborhood                         \n",
       "Regent Square                       6\n",
       "Mount Oliver Borough                6\n",
       "East Carnegie                       8\n",
       "Mt. Oliver                         10\n",
       "Chartiers City                     11\n",
       "...                               ...\n",
       "Hazelwood                         206\n",
       "South Side Flats                  207\n",
       "Squirrel Hill South               210\n",
       "Central Business District         213\n",
       "Carrick                           235\n",
       "\n",
       "[91 rows x 1 columns]"
      ]
     },
     "execution_count": 14,
     "metadata": {},
     "output_type": "execute_result"
    }
   ],
   "source": [
    "fbn_sorted = fbn.sort_values(\"case_count\")\n",
    "fbn_sorted\n",
    "# these are the best ones"
   ]
  },
  {
   "cell_type": "code",
   "execution_count": 51,
   "metadata": {},
   "outputs": [
    {
     "data": {
      "text/plain": [
       "<AxesSubplot:ylabel='neighborhood'>"
      ]
     },
     "execution_count": 51,
     "metadata": {},
     "output_type": "execute_result"
    },
    {
     "data": {
      "image/png": "[encoded data removed]",
      "text/plain": [
       "<Figure size 720x1440 with 1 Axes>"
      ]
     },
     "metadata": {
      "needs_background": "light"
     },
     "output_type": "display_data"
    }
   ],
   "source": [
    "fbn_sorted.plot.barh(figsize = (10,20), xlabel = 'neighborhood', ylabel = 'total cases')"
   ]
  },
  {
   "cell_type": "code",
   "execution_count": null,
   "metadata": {},
   "outputs": [],
   "source": [
    "The presented version was a line showing general curve of the data\n",
    "I changed it to a more comprehensive bar figure"
   ]
  },
  {
   "cell_type": "code",
   "execution_count": 31,
   "metadata": {},
   "outputs": [],
   "source": [
    "fire_final = fbn_sorted.merge(values, how='inner', on='neighborhood')\n",
    "# now combine the data of total cases with the value indicating dangerousness"
   ]
  },
  {
   "cell_type": "code",
   "execution_count": 53,
   "metadata": {},
   "outputs": [],
   "source": [
    "overall = []\n",
    "size = fire_final['case_count'].size\n",
    "for i in range (size):\n",
    "    overall.append(fire_final.iloc[i, 0] * fire_final.iloc[i, 1])\n",
    "# print(overall)\n",
    "fire_final['overall'] = overall"
   ]
  },
  {
   "cell_type": "code",
   "execution_count": 70,
   "metadata": {},
   "outputs": [
    {
     "data": {
      "text/html": [
       "<div>\n",
       "<style scoped>\n",
       "    .dataframe tbody tr th:only-of-type {\n",
       "        vertical-align: middle;\n",
       "    }\n",
       "\n",
       "    .dataframe tbody tr th {\n",
       "        vertical-align: top;\n",
       "    }\n",
       "\n",
       "    .dataframe thead th {\n",
       "        text-align: right;\n",
       "    }\n",
       "</style>\n",
       "<table border=\"1\" class=\"dataframe\">\n",
       "  <thead>\n",
       "    <tr style=\"text-align: right;\">\n",
       "      <th></th>\n",
       "      <th>case_count</th>\n",
       "      <th>value</th>\n",
       "      <th>overall</th>\n",
       "    </tr>\n",
       "    <tr>\n",
       "      <th>neighborhood</th>\n",
       "      <th></th>\n",
       "      <th></th>\n",
       "      <th></th>\n",
       "    </tr>\n",
       "  </thead>\n",
       "  <tbody>\n",
       "    <tr>\n",
       "      <th>Mount Oliver Borough</th>\n",
       "      <td>6</td>\n",
       "      <td>1.066667</td>\n",
       "      <td>6.4</td>\n",
       "    </tr>\n",
       "    <tr>\n",
       "      <th>Regent Square</th>\n",
       "      <td>6</td>\n",
       "      <td>1.116667</td>\n",
       "      <td>6.7</td>\n",
       "    </tr>\n",
       "    <tr>\n",
       "      <th>East Carnegie</th>\n",
       "      <td>8</td>\n",
       "      <td>1.050000</td>\n",
       "      <td>8.4</td>\n",
       "    </tr>\n",
       "    <tr>\n",
       "      <th>Mt. Oliver</th>\n",
       "      <td>10</td>\n",
       "      <td>1.080000</td>\n",
       "      <td>10.8</td>\n",
       "    </tr>\n",
       "    <tr>\n",
       "      <th>Chartiers City</th>\n",
       "      <td>11</td>\n",
       "      <td>1.100000</td>\n",
       "      <td>12.1</td>\n",
       "    </tr>\n",
       "    <tr>\n",
       "      <th>...</th>\n",
       "      <td>...</td>\n",
       "      <td>...</td>\n",
       "      <td>...</td>\n",
       "    </tr>\n",
       "    <tr>\n",
       "      <th>South Side Flats</th>\n",
       "      <td>207</td>\n",
       "      <td>1.053623</td>\n",
       "      <td>218.1</td>\n",
       "    </tr>\n",
       "    <tr>\n",
       "      <th>Hazelwood</th>\n",
       "      <td>206</td>\n",
       "      <td>1.089806</td>\n",
       "      <td>224.5</td>\n",
       "    </tr>\n",
       "    <tr>\n",
       "      <th>Central Business District</th>\n",
       "      <td>213</td>\n",
       "      <td>1.055399</td>\n",
       "      <td>224.8</td>\n",
       "    </tr>\n",
       "    <tr>\n",
       "      <th>Squirrel Hill South</th>\n",
       "      <td>210</td>\n",
       "      <td>1.078571</td>\n",
       "      <td>226.5</td>\n",
       "    </tr>\n",
       "    <tr>\n",
       "      <th>Carrick</th>\n",
       "      <td>235</td>\n",
       "      <td>1.103830</td>\n",
       "      <td>259.4</td>\n",
       "    </tr>\n",
       "  </tbody>\n",
       "</table>\n",
       "<p>91 rows × 3 columns</p>\n",
       "</div>"
      ],
      "text/plain": [
       "                           case_count     value  overall\n",
       "neighborhood                                            \n",
       "Mount Oliver Borough                6  1.066667      6.4\n",
       "Regent Square                       6  1.116667      6.7\n",
       "East Carnegie                       8  1.050000      8.4\n",
       "Mt. Oliver                         10  1.080000     10.8\n",
       "Chartiers City                     11  1.100000     12.1\n",
       "...                               ...       ...      ...\n",
       "South Side Flats                  207  1.053623    218.1\n",
       "Hazelwood                         206  1.089806    224.5\n",
       "Central Business District         213  1.055399    224.8\n",
       "Squirrel Hill South               210  1.078571    226.5\n",
       "Carrick                           235  1.103830    259.4\n",
       "\n",
       "[91 rows x 3 columns]"
      ]
     },
     "execution_count": 70,
     "metadata": {},
     "output_type": "execute_result"
    }
   ],
   "source": [
    "fire_final.sort_values(\"overall\")"
   ]
  },
  {
   "cell_type": "code",
   "execution_count": 71,
   "metadata": {},
   "outputs": [
    {
     "data": {
      "text/plain": [
       "<AxesSubplot:xlabel='neighborhood'>"
      ]
     },
     "execution_count": 71,
     "metadata": {},
     "output_type": "execute_result"
    },
    {
     "data": {
      "image/png": "[encoded data removed]",
      "text/plain": [
       "<Figure size 720x360 with 1 Axes>"
      ]
     },
     "metadata": {
      "needs_background": "light"
     },
     "output_type": "display_data"
    }
   ],
   "source": [
    "fire_final.sort_values(\"overall\").head(10).plot.bar(figsize = (10, 5), y = 'overall')\n",
    "# data plot with the overall best neighborhoods"
   ]
  },
  {
   "cell_type": "markdown",
   "metadata": {},
   "source": [
    "# Dataset 2 Result\n",
    "Based on my metrix made from number of fire incidencies reported in each neighborhood and the relative dangerousness, the best neighborhoods could be one of the following: Mt. Oliver Borough, Regent Square, East Carnigie."
   ]
  },
  {
   "cell_type": "markdown",
   "metadata": {},
   "source": [
    "<h1> Last data set </h1>\n",
    "For the last data set we looked at 3-1-1 calls in pittsburgh"
   ]
  },
  {
   "cell_type": "code",
   "execution_count": 28,
   "metadata": {},
   "outputs": [
    {
     "name": "stdout",
     "output_type": "stream",
     "text": [
      "Brookline               20529\n",
      "Carrick                 19523\n",
      "South Side Slopes       16293\n",
      "Squirrel Hill South     16257\n",
      "South Side Flats        14763\n",
      "                        ...  \n",
      "East Carnegie             459\n",
      "Northview Heights         456\n",
      "Glen Hazel                309\n",
      "Arlington Heights          99\n",
      "Mount Oliver Borough       59\n",
      "Name: NEIGHBORHOOD, Length: 91, dtype: int64\n"
     ]
    }
   ],
   "source": [
    "three = pd.read_csv('311.csv', low_memory = False)\n",
    "print(three['NEIGHBORHOOD'].value_counts())\n",
    "s1 = three['NEIGHBORHOOD'].value_counts()"
   ]
  },
  {
   "cell_type": "code",
   "execution_count": 29,
   "metadata": {},
   "outputs": [
    {
     "data": {
      "text/plain": [
       "<AxesSubplot:>"
      ]
     },
     "execution_count": 29,
     "metadata": {},
     "output_type": "execute_result"
    },
    {
     "data": {
      "image/png": "[encoded data removed]",
      "text/plain": [
       "<Figure size 432x288 with 1 Axes>"
      ]
     },
     "metadata": {
      "needs_background": "light"
     },
     "output_type": "display_data"
    }
   ],
   "source": [
    "three.NEIGHBORHOOD.value_counts().sort_values().plot(kind = 'barh')"
   ]
  },
  {
   "cell_type": "code",
   "execution_count": 30,
   "metadata": {},
   "outputs": [
    {
     "data": {
      "text/plain": [
       "<AxesSubplot:>"
      ]
     },
     "execution_count": 30,
     "metadata": {},
     "output_type": "execute_result"
    },
    {
     "data": {
      "image/png": "[encoded data removed]",
      "text/plain": [
       "<Figure size 432x288 with 1 Axes>"
      ]
     },
     "metadata": {
      "needs_background": "light"
     },
     "output_type": "display_data"
    }
   ],
   "source": [
    "df = s1.to_frame()\n",
    "df = df[85:]\n",
    "df.plot(kind = 'barh')"
   ]
  },
  {
   "cell_type": "markdown",
   "metadata": {},
   "source": [
    "<h2> Conclusion </h2>"
   ]
  },
  {
   "cell_type": "markdown",
   "metadata": {},
   "source": [
    "After getting a bunch of samples of data there is one neighborhood that has shown up in each sample. That is East Carnegie. This is why we decieded that this was the best neighborhood. As each sampleing that we would do it would show up"
   ]
  }
 ],
 "metadata": {
  "kernelspec": {
   "display_name": "Python 3",
   "language": "python",
   "name": "python3"
  },
  "language_info": {
   "codemirror_mode": {
    "name": "ipython",
    "version": 3
   },
   "file_extension": ".py",
   "mimetype": "text/x-python",
   "name": "python",
   "nbconvert_exporter": "python",
   "pygments_lexer": "ipython3",
   "version": "3.8.5"
  }
 },
 "nbformat": 4,
 "nbformat_minor": 4
}
